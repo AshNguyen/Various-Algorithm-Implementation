{
 "cells": [
  {
   "cell_type": "code",
   "execution_count": 21,
   "metadata": {
    "collapsed": false
   },
   "outputs": [
    {
     "name": "stdout",
     "output_type": "stream",
     "text": [
      "Pi= 3.14484\n"
     ]
    }
   ],
   "source": [
    "#Pi estimator \n",
    "\n",
    "import numpy as np \n",
    "\n",
    "N=100000\n",
    "T=0\n",
    "for i in range(N):\n",
    "    x=np.random.uniform(-1,1)\n",
    "    y=np.random.uniform(-1,1)\n",
    "    if (x**2+y**2)<=1: \n",
    "        T+=1 \n",
    "print(\"Pi=\",4*T/N)"
   ]
  },
  {
   "cell_type": "code",
   "execution_count": 31,
   "metadata": {
    "collapsed": false
   },
   "outputs": [
    {
     "name": "stdout",
     "output_type": "stream",
     "text": [
      "I= 1.46341951304\n"
     ]
    }
   ],
   "source": [
    "#Integration \n",
    "\n",
    "n=100000\n",
    "summation=0\n",
    "a=0\n",
    "b=1 \n",
    "\n",
    "for i in range(n): \n",
    "    x=np.random.uniform(a,b)\n",
    "    f=np.exp(x**2)\n",
    "    summation+=f \n",
    "\n",
    "print(\"I=\",(b-a)*summation/n)"
   ]
  },
  {
   "cell_type": "code",
   "execution_count": 45,
   "metadata": {
    "collapsed": false
   },
   "outputs": [
    {
     "data": {
      "text/plain": [
       "0.18693660410862728"
      ]
     },
     "execution_count": 45,
     "metadata": {},
     "output_type": "execute_result"
    }
   ],
   "source": [
    "#Gaussian Distribution Sampling \n",
    "\n",
    "var=np.random.normal(0,0.1)\n",
    "\n",
    "var"
   ]
  }
 ],
 "metadata": {
  "kernelspec": {
   "display_name": "Python 3",
   "language": "python",
   "name": "python3"
  },
  "language_info": {
   "codemirror_mode": {
    "name": "ipython",
    "version": 3
   },
   "file_extension": ".py",
   "mimetype": "text/x-python",
   "name": "python",
   "nbconvert_exporter": "python",
   "pygments_lexer": "ipython3",
   "version": "3.6.0"
  }
 },
 "nbformat": 4,
 "nbformat_minor": 2
}
