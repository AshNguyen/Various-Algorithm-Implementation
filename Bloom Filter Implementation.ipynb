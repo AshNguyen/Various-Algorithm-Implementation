{
 "cells": [
  {
   "cell_type": "code",
   "execution_count": 105,
   "metadata": {
    "collapsed": false
   },
   "outputs": [
    {
     "data": {
      "text/plain": [
       "'Element was probably added to the Filter'"
      ]
     },
     "execution_count": 105,
     "metadata": {},
     "output_type": "execute_result"
    }
   ],
   "source": [
    "#importing relevant packages\n",
    "import bitarray\n",
    "import random\n",
    "import math\n",
    "\n",
    "#a hash function that return the index from 0 to m, with the \n",
    "#input of the m, the element to hash and the order of the\n",
    "#hash function(number)\n",
    "def hashit(length,element,number):\n",
    "    #calculating a unique number for each string element\n",
    "    val=0\n",
    "    for chr in element:\n",
    "        val += ord(chr)  \n",
    "    #setting seed for this unique value so querying can be performed\n",
    "    random.seed(val)    \n",
    "    #calculating a number unique to the element and the order of the hash function\n",
    "    ans=random.randint(1,val)*number   \n",
    "    return(ans % length) \n",
    "\n",
    "\n",
    "#defining the Bloom Filter class \n",
    "class Bloom(object): \n",
    "    def __init__(self,m,k): \n",
    "        self.b_array=bitarray.bitarray(m)   #creating the bits array\n",
    "        self.len=m    #initialize the length of the bits array\n",
    "        self.hashfun=k   #initialize the number of hash function to use\n",
    "        self.b_array.setall(0)   #setting all the bits to 0s \n",
    "        \n",
    "    def add(self,element): \n",
    "        #setting all indices the k hash functions return to 1s\n",
    "        for _ in range(self.hashfun):   \n",
    "            index=hashit(self.len,element,_)\n",
    "            self.b_array[index]=1\n",
    "        \n",
    "    def query(self,element): \n",
    "        #checking for at least 1 zero in the indices the k \n",
    "        #hash function hashed to. If there's 1 zero, the element is not in the\n",
    "        #Filter. If there's no zero, the element might be in the Filter\n",
    "        for _ in range(self.hashfun):   \n",
    "            index=hashit(self.len,element,_)              \n",
    "            if self.b_array[index]==0:  \n",
    "                return(\"Element was not added in the Filter\")\n",
    "        return(\"Element was probably added to the Filter\")\n",
    "    \n",
    "\n",
    "    \n",
    "#a function to calculate the optimal k for a given \n",
    "#false positive rate Pr\n",
    "def op_k(Pr):\n",
    "    k=-math.log(Pr,2)\n",
    "    return(int(k))\n",
    "\n",
    "#a function to calculate the optimal m for a given \n",
    "#false positive rate Pr and number of expected element n\n",
    "def op_m(Pr,n): \n",
    "    m=-n*math.log(Pr,2)/math.log(2)\n",
    "    return(int(m))\n",
    "\n",
    "#testing the Bloom Filter\n",
    "bloom=Bloom(op_m(0.01,1000),op_k(0.01))\n",
    "bloom.add(\"Ash\")\n",
    "bloom.query(\"Stern\")\n",
    "bloom.query(\"Ash\")"
   ]
  },
  {
   "cell_type": "code",
   "execution_count": 136,
   "metadata": {
    "collapsed": false
   },
   "outputs": [
    {
     "data": {
      "image/png": "[encoded data removed]",
      "text/plain": [
       "<matplotlib.figure.Figure at 0x1177e8f28>"
      ]
     },
     "metadata": {},
     "output_type": "display_data"
    }
   ],
   "source": [
    "import matplotlib.pyplot as plt\n",
    "import string\n",
    "\n",
    "def randomword(length):\n",
    "    return ''.join(random.choice(string.ascii_lowercase) for i in range(length))\n",
    "\n",
    "randomwords=[]\n",
    "for i in range(100000): \n",
    "    randomwords.append(randomword(10))\n",
    "\n",
    "a=[]    \n",
    "for _ in randomwords:\n",
    "    for i in range(10):\n",
    "        a.append(mmh3.hash(_,10)%100)\n",
    "    \n",
    "    \n",
    "\n",
    "plt.hist(a)\n",
    "plt.xlabel(\"Hash Value\")\n",
    "plt.ylabel(\"Number of hash value\")\n",
    "plt.show()"
   ]
  },
  {
   "cell_type": "code",
   "execution_count": 3,
   "metadata": {
    "collapsed": false
   },
   "outputs": [
    {
     "data": {
      "image/png": "[encoded data removed]",
      "text/plain": [
       "<matplotlib.figure.Figure at 0x10e09ec88>"
      ]
     },
     "metadata": {},
     "output_type": "display_data"
    }
   ],
   "source": [
    "import mmh3\n",
    "import matplotlib.pyplot as plt\n",
    "import string\n",
    "import math\n",
    "import random\n",
    "import bitarray\n",
    "\n",
    "def randomword(length):\n",
    "    return ''.join(random.choice(string.ascii_lowercase) for i in range(length))\n",
    "\n",
    "randomwords=[]\n",
    "for i in range(100000): \n",
    "    randomwords.append(randomword(10))\n",
    "\n",
    "class Bloom(object): \n",
    "    def __init__(self,m,k): \n",
    "        self.b_array=bitarray.bitarray(m)  \n",
    "        self.len=m    \n",
    "        self.hashfun=k   \n",
    "        self.b_array.setall(0)  \n",
    "        \n",
    "    def add(self,element): \n",
    "        for _ in range(self.hashfun):   \n",
    "            index=mmh3.hash(element,_) % self.len\n",
    "            self.b_array[index]=1\n",
    "        \n",
    "    def query(self,element): \n",
    "        for _ in range(self.hashfun):   \n",
    "            index=mmh3.hash(element,_) % self.len             \n",
    "            if self.b_array[index]==0:  \n",
    "                return(False)\n",
    "        return(True)\n",
    "    \n",
    "\n",
    "\n",
    "def get_fp_rate(n):\n",
    "    bloom=Bloom(1000,25)\n",
    "    count=0\n",
    "    \n",
    "    for _ in randomwords[0:n]:\n",
    "        bloom.add(_)   \n",
    "    for _ in range(len(randomwords)):\n",
    "        check1=bloom.query(randomwords[_])\n",
    "        if check1==True and _>=n: \n",
    "            count+=1\n",
    "    return(float(count)/100000)\n",
    "    \n",
    "a=[]\n",
    "x=[_ for _ in range(1000)]\n",
    "y=[(1-math.exp(-(_*25)/1000))**25 for _ in x]\n",
    "\n",
    "for _ in range(1000): \n",
    "    a.append(get_fp_rate(_))\n",
    "\n",
    "ash1, =plt.plot(x,a,\"red\")\n",
    "ash2, =plt.plot(x,y,\"blue\")\n",
    "plt.ylabel('False positive rate')\n",
    "plt.xlabel('Number of stored elements')\n",
    "plt.legend([ash1, ash2], ['Empirical', 'Theoretical'])\n",
    "plt.show()\n"
   ]
  }
 ],
 "metadata": {
  "kernelspec": {
   "display_name": "Python 3",
   "language": "python",
   "name": "python3"
  },
  "language_info": {
   "codemirror_mode": {
    "name": "ipython",
    "version": 3
   },
   "file_extension": ".py",
   "mimetype": "text/x-python",
   "name": "python",
   "nbconvert_exporter": "python",
   "pygments_lexer": "ipython3",
   "version": "3.6.0"
  }
 },
 "nbformat": 4,
 "nbformat_minor": 2
}
